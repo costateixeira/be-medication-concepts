{
 "cells": [
  {
   "cell_type": "code",
   "execution_count": 141,
   "metadata": {},
   "outputs": [],
   "source": [
    "import pandas as pd\n",
    "import yaml\n",
    "import json\n",
    "import os\n",
    "import subprocess\n"
   ]
  },
  {
   "cell_type": "code",
   "execution_count": 142,
   "metadata": {},
   "outputs": [],
   "source": [
    "DATA_FILE='export_basis_AMPs_aangepast_20220425.xlsx'\n",
    "OUT_FOLDER_VMP=\"output-vmp\"\n",
    "OUT_FOLDER_MP=\"output-MP\"\n",
    "OUT_FOLDER_PMP=\"output-PMP\"\n",
    "OUT_FOLDER_VMP_PROFILE=\"output-vmp-profile\"\n",
    "DATA_FILE2='export_basis_AMPPs_aangepast_20220425.xlsx'\n",
    "REPORT_FILE=\"example-report-ampp.csv\""
   ]
  },
  {
   "cell_type": "code",
   "execution_count": 143,
   "metadata": {},
   "outputs": [],
   "source": [
    "data=pd.read_excel(io=DATA_FILE,sheet_name='Blad1')\n",
    "data2=pd.read_excel(io=DATA_FILE2,sheet_name='Blad1')"
   ]
  },
  {
   "cell_type": "code",
   "execution_count": 144,
   "metadata": {},
   "outputs": [],
   "source": [
    "#Create folder if they do not exist\n",
    "if not os.path.exists(OUT_FOLDER_VMP):\n",
    "    os.makedirs(OUT_FOLDER_VMP)\n",
    "if not os.path.exists(OUT_FOLDER_MP):\n",
    "    os.makedirs(OUT_FOLDER_MP)\n",
    "if not os.path.exists(OUT_FOLDER_PMP):\n",
    "    os.makedirs(OUT_FOLDER_PMP)\n",
    "if not os.path.exists(OUT_FOLDER_VMP_PROFILE):\n",
    "    os.makedirs(OUT_FOLDER_VMP_PROFILE)   "
   ]
  },
  {
   "cell_type": "code",
   "execution_count": 145,
   "metadata": {},
   "outputs": [],
   "source": [
    "def create_yaml(x):\n",
    "    \"\"\"\n",
    "    create yaml file from dataframe (CSV)\n",
    "    \"\"\"\n",
    "    doc={\"type\":\"Tree\",\"rows\":[{\"label\":\"CSV\",\"rows\":[]}]}\n",
    "\n",
    "    for col in x.columns:\n",
    "        l_id=col\n",
    "        doc[\"rows\"][0][\"rows\"].append({\"label\":col,\"id\":l_id})\n",
    "\n",
    "    doc[\"rowHeight\"]=25\n",
    "    doc[\"headerHeight\"]=50\n",
    "    doc[\"headerText\"]=DATA_FILE.split('.')[0]\n",
    "    doc[\"id\"]=DATA_FILE.split(\"/\")[-1].split(\".\")[0].replace(\" \",\"_\")\n",
    "    color=\"#34ebcf\" \n",
    "    doc[\"attrs\"]={\"header\":{\"fill\":color}}\n",
    "    doc2=[doc]\n",
    "    file=DATA_FILE.split(\".\")\n",
    "    ff2 = open(file[0]+\".yaml\", 'w+')\n",
    "    ffjson = open(file[0]+ \".json\", \"w+\")\n",
    "    json.dump(doc2, ffjson)\n",
    "    yaml.dump(doc2,ff2,default_flow_style=False, sort_keys=False,indent=2)\n",
    "    return \"ok\""
   ]
  },
  {
   "cell_type": "code",
   "execution_count": 146,
   "metadata": {},
   "outputs": [
    {
     "data": {
      "text/plain": [
       "'ok'"
      ]
     },
     "execution_count": 146,
     "metadata": {},
     "output_type": "execute_result"
    }
   ],
   "source": [
    "create_yaml(x=data)"
   ]
  },
  {
   "cell_type": "code",
   "execution_count": 147,
   "metadata": {},
   "outputs": [],
   "source": [
    "def create_substance(x):\n",
    "    sbs={\"resourceType\": \"MedicationKnowledge\"}\n",
    "\n",
    "   # sbs[\"identifier\"]=[]\n",
    "   # sbs[\"identifier\"].append({\"system\":\"http://www.belgium.be/susbtance\",\"value\":int(x[\"ntlidentifier\"])})\n",
    "    sbs[\"status\"]=\"active\"\n",
    "    sbs[\"domain\"]=\"human\"\n",
    "    sbs[\"name\"]={}\n",
    "    sbs[\"name\"][\"productName\"]=x[\"basis\"]\n",
    "    sbs[\"name\"][\"type\"]=\"generic\"\n",
    "    sbs[\"granularity\"]=\"susbtance\"\n",
    "   \n",
    "    #sbs[\"drugType\"]= molecule_type if \"molecule_type\" in locals() else None\n",
    "    if not pd.isna(x[\"atc\"]):\n",
    "        sbs[\"classification\"]=[]\n",
    "        sbs[\"classification\"].append({\"system\":\"http://who.org/ATC\",\"value\":x[\"atc\"]})\n",
    "   # if \"indication\" in locals() and indication is not None:\n",
    "   #     sbs[\"classification\"].append({\"system\":\"http://who.org/indication\",\"value\":indication})\n",
    "\n",
    "    #time.sleep(0.1)\n",
    "    print(sbs)\n",
    "    return sbs\n"
   ]
  },
  {
   "cell_type": "code",
   "execution_count": 148,
   "metadata": {},
   "outputs": [],
   "source": [
    "def validate_artifact(art,ig=None):\n",
    "    \"\"\"\n",
    "    for all ok:\n",
    "        grep this 'Success: 0 errors, 0 warnings, 1 notes\n",
    "                        Information: All OK'\n",
    "    for errors: \n",
    "        the output goes to expcetion and returns similar to:\n",
    "        *FAILURE*: 1 errors, 1 warnings, 1 notes\\n  \n",
    "        Error @ MedicationKnowledge.intendedRoute[0].coding[0].code (line 1, col550): \n",
    "        Error parsing JSON: the primitive value must be a string\\n  Information @ MedicationKnowledge.meta.profile[0] (line 1, col137): \n",
    "        Canonical URL 'http://hl7.org/fhir/us/example/StructureDefinition/PharmaceuticalProduct' does not resolve\\n  Warning @ MedicationKnowledge.meta.profile[0] (line 1, col2): Profile reference 'http://hl7.org/fhir/us/example/StructureDefinition/PharmaceuticalProduct' has not been checked because it is unknown, and fetching it resulted in the error org.hl7.fhir.r4.utils.client.EFhirClientException: Error parsing response message: This does not appear to be a FHIR resource (wrong namespace 'http://www.w3.org/1999/xhtml') (@ /)\\n\"\n",
    "    \"\"\"\n",
    "    result={}\n",
    "    command= [\"java\", \"-jar\", \"/Users/joaoalmeida/Desktop/transformaçao-meds-be/validator_cli.jar\",\"/Users/joaoalmeida/Desktop/transformaçao-meds-be/\"+art]\n",
    "    if ig:\n",
    "        command=[\"java\", \"-jar\", \"/Users/joaoalmeida/Desktop/transformaçao-meds-be/validator_cli.jar\",\"/Users/joaoalmeida/Desktop/transformaçao-meds-be/\"+art,\"-ig\",ig]\n",
    "    try:\n",
    "        output = subprocess.check_output(command, stderr=subprocess.PIPE)\n",
    "        nopt=output.decode('UTF-8')\n",
    "     #   print(nopt)\n",
    "        result[\"status\"]=\"OK\"\n",
    "\n",
    "        result[\"message\"]=nopt.split(\"Success: \")[-1]\n",
    "    except subprocess.CalledProcessError as e:\n",
    "       # print(\"command '{}' return with error (code {}): {}\".format(e.cmd, e.returncode, e.output))\n",
    "        nopt=e.output.decode(\"UTF-8\").split(\"FAILURE*: \")[-1]\n",
    "       # print(e.output.decode(\"UTF-8\"))\n",
    "        result[\"status\"]=\"NOK\"\n",
    "        result[\"message\"]=nopt\n",
    "       # print(e.output)\n",
    "    return result"
   ]
  },
  {
   "cell_type": "code",
   "execution_count": 149,
   "metadata": {},
   "outputs": [],
   "source": [
    "def save_files(folder,file_name,validation,artifact):\n",
    "  \n",
    "  if folder:\n",
    "#  ffjson = open(file_name, \"w+\")\n",
    "    with open(folder+\"/\"+file_name, 'w+') as f:\n",
    "      f.write(json.dumps(artifact,indent=4))\n",
    "  # print( os.path.exists(file_name))\n",
    "  if validation:\n",
    "    outcome=validate_artifact(folder+\"/\"+file_name)\n",
    "    return outcome\n",
    "  return None\n",
    "   "
   ]
  },
  {
   "cell_type": "code",
   "execution_count": 150,
   "metadata": {},
   "outputs": [],
   "source": [
    "def create_pharmprod(data,folder=None,validation=False):\n",
    "    #print(data)\n",
    "    artifact={}\n",
    "    artifact[\"resourceType\"]=\"MedicationKnowledge\"\n",
    "\n",
    "\n",
    "    artifact[\"status\"]=\"active\"\n",
    "    artifact[\"synonym\"]=[data[\"vmp_name\"] ]\n",
    "    \n",
    "    artifact[\"ingredient\"]=[]\n",
    "    denominator={\"value\":1} #must have 1 for ratio...\n",
    "    ingredient={}\n",
    "\n",
    "    ingredient[\"itemCodeableConcept\"]={\"coding\":[{\"display\":data[\"basis_substance\"]}]}\n",
    "    ingredient[\"isActive\"]=True\n",
    "   # print(data[\"strenght_nominator_value_low_limit\"],data[\"strength_nominator_unit\"])\n",
    "    numerator={\"value\":data[\"strenght_nominator_value_low_limit\"],\"unit\":data[\"strength_nominator_unit\"]}\n",
    "    strength={\"numerator\":numerator}\n",
    "      \n",
    "    if data[\"strenght_denominator_value_low_limit\"]==\"\":\n",
    "     # print(data[\"strenght_denominator_value_low_limit\"])\n",
    "      denominator={\"value\":int(data[\"strenght_denominator_value_low_limit\"]),\"unit\":data[\"strength_denominator_unit\"]}\n",
    "    strength[\"denominator\"]=denominator\n",
    "    ingredient[\"strength\"]=strength\n",
    "    artifact[\"ingredient\"].append(ingredient)\n",
    "\n",
    "    artifact[\"doseForm\"] ={ ##create link with snomed or idmp\n",
    "    \"coding\": [\n",
    "      {\n",
    "        \"code\": str(data[\"edqmid\"]),\n",
    "        \"system\": \"http://standardterms.edqm.eu\",\n",
    "        \"display\": data[\"edqmform\"]\n",
    "      }\n",
    "    ]\n",
    "  }\n",
    "    route=[]\n",
    "   \n",
    "    route.append( {\n",
    "      \"coding\": [\n",
    "        {\n",
    "          \"code\": str(data[\"edqm_roa_id\"]),\n",
    "          \"system\": \"http://standardterms.edqm.eu\",\n",
    "          \"display\": data[\"roa_en\"]\n",
    "        }\n",
    "      ]\n",
    "    })\n",
    "    artifact[\"intendedRoute\"]=route\n",
    "    file_name=str(data[\"vmp_name\"]).replace(\"/\",\".\").replace(\".\",\"\").replace(\"(\",\"\").replace(\")\",\"\").replace(\" \",\"_\")+ \".json\"\n",
    "\n",
    "    outcome=save_files(folder,file_name,validation,artifact)\n",
    "    if outcome:\n",
    "        return outcome[\"status\"],outcome[\"message\"]\n",
    "\n",
    "    return artifact"
   ]
  },
  {
   "cell_type": "code",
   "execution_count": 151,
   "metadata": {},
   "outputs": [
    {
     "data": {
      "text/plain": [
       "0    {'resourceType': 'MedicationKnowledge', 'statu...\n",
       "1    {'resourceType': 'MedicationKnowledge', 'statu...\n",
       "dtype: object"
      ]
     },
     "execution_count": 151,
     "metadata": {},
     "output_type": "execute_result"
    }
   ],
   "source": [
    "data.iloc[0:2].apply(create_pharmprod,axis=1,folder=OUT_FOLDER_VMP)"
   ]
  },
  {
   "cell_type": "code",
   "execution_count": 152,
   "metadata": {},
   "outputs": [],
   "source": [
    "def create_medicinal_product(data,folder=None,validation=False):\n",
    "    artifact=create_pharmprod(data)\n",
    "    artifact[\"synonym\"]=[data[\"medicinal_product_name\"]]\n",
    "    artifact[\"code\"]={\"coding\":[{\"code\":str(data[\"samv2_amp_id\"]),\"system\":\"http://www.belgium.be/medicinalproduct\"}]}\n",
    "    file_name=str(data[\"medicinal_product_name\"]).replace(\"/\",\".\").replace(\".\",\"\").replace(\"(\",\"\").replace(\")\",\"\").replace(\" \",\"_\")+ \".json\"\n",
    "    outcome=save_files(folder,file_name,validation,artifact)\n",
    "    if outcome:\n",
    "        return outcome[\"status\"],outcome[\"message\"]\n",
    "\n",
    "    return artifact"
   ]
  },
  {
   "cell_type": "code",
   "execution_count": 153,
   "metadata": {},
   "outputs": [
    {
     "data": {
      "text/plain": [
       "0    {'resourceType': 'MedicationKnowledge', 'statu...\n",
       "1    {'resourceType': 'MedicationKnowledge', 'statu...\n",
       "dtype: object"
      ]
     },
     "execution_count": 153,
     "metadata": {},
     "output_type": "execute_result"
    }
   ],
   "source": [
    "data.iloc[0:2].apply(create_medicinal_product,axis=1,folder=OUT_FOLDER_MP)"
   ]
  },
  {
   "cell_type": "code",
   "execution_count": 154,
   "metadata": {},
   "outputs": [
    {
     "data": {
      "text/plain": [
       "Index(['authorization_country', 'vtm_name', 'samv2_amp_id',\n",
       "       'medicinal_product_name', 'company', 'amppname', 'cnk_pub', 'cti_ext',\n",
       "       'abbrevname', 'name_abbrev_fr', 'packdisplayvalue', 'espc_nl',\n",
       "       'espc_fr', 'marketingauthorisationholder', 'distributor',\n",
       "       'basis_substance', 'substance_modifier', 'formname', 'edqmform',\n",
       "       'edqmid', 'snomedid', 'abbrform_nl', 'abbrform_fr',\n",
       "       'manufactureddoseform', 'adm_doseform', 'roa_nl', 'roa_en',\n",
       "       'edqm_roa_nl', 'edqm_roa_id', 'baseofstrength',\n",
       "       'strenght_nominator_value_low_limit', 'strength_nominator_unit',\n",
       "       'strenght_nominator_value_high_limit', 'strengthunitucum',\n",
       "       'strenght_denominator_value_low_limit', 'strength_denominator_unit',\n",
       "       'strengthdenomunitucum', 'atc', 'ddd', 'ddu', 'dddpropackage',\n",
       "       'vmp_name', 'vmpgroupname'],\n",
       "      dtype='object')"
      ]
     },
     "execution_count": 154,
     "metadata": {},
     "output_type": "execute_result"
    }
   ],
   "source": [
    "data2.columns"
   ]
  },
  {
   "cell_type": "code",
   "execution_count": 155,
   "metadata": {},
   "outputs": [],
   "source": [
    "def create_packaged_medicinal_product(data,folder=None,validation=False):\n",
    "    artifact=create_medicinal_product(data)\n",
    "    artifact[\"synonym\"]=[data[\"amppname\"]]\n",
    "    artifact[\"code\"]={\"coding\":[{\"code\":str(data[\"cnk_pub\"]),\"system\":\"http://www.belgium.be/packagedmedicinalproduct\"}]}\n",
    "    file_name=str(data[\"amppname\"]).replace(\"/\",\".\").replace(\".\",\"\").replace(\"(\",\"\").replace(\")\",\"\").replace(\" \",\"_\")+ \".json\"\n",
    "    outcome=save_files(folder,file_name,validation,artifact)\n",
    "    print(outcome)\n",
    "    if outcome:\n",
    "        return outcome[\"status\"],outcome[\"message\"]\n",
    "    return artifact"
   ]
  },
  {
   "cell_type": "code",
   "execution_count": 156,
   "metadata": {},
   "outputs": [
    {
     "name": "stdout",
     "output_type": "stream",
     "text": [
      "{'status': 'OK', 'message': \"0 errors, 0 warnings, 1 notes\\n  Information @ MedicationKnowledge.code.coding[0] (line 50, col14): Code System URI 'http://www.belgium.be/packagedmedicinalproduct' is unknown so the code cannot be validated\\n\"}\n",
      "{'status': 'OK', 'message': \"0 errors, 0 warnings, 1 notes\\n  Information @ MedicationKnowledge.code.coding[0] (line 50, col14): Code System URI 'http://www.belgium.be/packagedmedicinalproduct' is unknown so the code cannot be validated\\n\"}\n"
     ]
    },
    {
     "name": "stderr",
     "output_type": "stream",
     "text": [
      "/var/folders/8g/rym67m5d29dcjm2td47sgb_m0000gn/T/ipykernel_83006/188322767.py:2: SettingWithCopyWarning: \n",
      "A value is trying to be set on a copy of a slice from a DataFrame.\n",
      "Try using .loc[row_indexer,col_indexer] = value instead\n",
      "\n",
      "See the caveats in the documentation: https://pandas.pydata.org/pandas-docs/stable/user_guide/indexing.html#returning-a-view-versus-a-copy\n",
      "  ndata[[\"validation_status\",\"validation_message\"]]=ndata.apply(create_packaged_medicinal_product,axis=1,folder=OUT_FOLDER_PMP,validation=True,result_type=\"expand\")\n",
      "/var/folders/8g/rym67m5d29dcjm2td47sgb_m0000gn/T/ipykernel_83006/188322767.py:2: SettingWithCopyWarning: \n",
      "A value is trying to be set on a copy of a slice from a DataFrame.\n",
      "Try using .loc[row_indexer,col_indexer] = value instead\n",
      "\n",
      "See the caveats in the documentation: https://pandas.pydata.org/pandas-docs/stable/user_guide/indexing.html#returning-a-view-versus-a-copy\n",
      "  ndata[[\"validation_status\",\"validation_message\"]]=ndata.apply(create_packaged_medicinal_product,axis=1,folder=OUT_FOLDER_PMP,validation=True,result_type=\"expand\")\n"
     ]
    }
   ],
   "source": [
    "#DEV: This only applies to two elements excel, remove .iloc[0:2] to apply all\n",
    "#DEV: This creates a new DataFrame and then saves it to file\n",
    "ndata=data2.iloc[0:2] #test purposes only\n",
    "ndata[[\"validation_status\",\"validation_message\"]]=ndata.apply(create_packaged_medicinal_product,axis=1,folder=OUT_FOLDER_PMP,validation=True,result_type=\"expand\")\n",
    "ndata.to_csv(REPORT_FILE)"
   ]
  },
  {
   "cell_type": "code",
   "execution_count": 157,
   "metadata": {},
   "outputs": [],
   "source": []
  },
  {
   "cell_type": "code",
   "execution_count": 161,
   "metadata": {},
   "outputs": [],
   "source": [
    "def create_pharmprod_profile(data,folder=None,validation=False,ig=None):\n",
    "    #print(data)\n",
    "    artifact={}\n",
    "    artifact[\"resourceType\"]=\"MedicationKnowledge\"\n",
    "    artifact[\"meta\"]= {\n",
    "    \"profile\": [\n",
    "      #\"https://costateixeira.github.io/be-medication-concepts/StructureDefinition/PharmaceuticalProduct\"\n",
    "      \"https://costateixeira.github.io/be-medication-concepts/StructureDefinition-PharmaceuticalProduct\"\n",
    "    ]\n",
    "  }\n",
    "    artifact[\"code\"]={\"coding\":[]}\n",
    "    artifact[\"code\"][\"coding\"].append({\"code\":str(1200),\"system\":\"http://www.belgium.be/pharmaceutical-ids\"})\n",
    "    artifact[\"code\"][\"coding\"].append({\"code\":str(1300),\"system\":\"http://www.edqm.eu/pharmaceutical-product-identifier-type\"})\n",
    "\n",
    "    artifact[\"status\"]=\"active\"\n",
    "    #artifact[\"synonym\"]=[data[\"vmp_name\"] ]\n",
    "    \n",
    "    artifact[\"ingredient\"]=[]\n",
    "    denominator={\"value\":1} #must have 1 for ratio...\n",
    "    ingredient={}\n",
    "\n",
    "    ingredient[\"itemCodeableConcept\"]={\"coding\":[{\"display\":data[\"basis_substance\"]}]}\n",
    "    ingredient[\"isActive\"]=True\n",
    "   # print(data[\"strenght_nominator_value_low_limit\"],data[\"strength_nominator_unit\"])\n",
    "    numerator={\"value\":data[\"strenght_nominator_value_low_limit\"],\"unit\":data[\"strength_nominator_unit\"]}\n",
    "    strength={\"numerator\":numerator}\n",
    "      \n",
    "    if data[\"strenght_denominator_value_low_limit\"]==\"\":\n",
    "     # print(data[\"strenght_denominator_value_low_limit\"])\n",
    "      denominator={\"value\":int(data[\"strenght_denominator_value_low_limit\"]),\"unit\":data[\"strength_denominator_unit\"]}\n",
    "    strength[\"denominator\"]=denominator\n",
    "    ingredient[\"strength\"]=strength\n",
    "    artifact[\"ingredient\"].append(ingredient)\n",
    "\n",
    "    artifact[\"doseForm\"] ={ ##create link with snomed or idmp\n",
    "    \"coding\": []}\n",
    "\n",
    "    artifact[\"doseForm\"][\"coding\"].append(  {\n",
    "        \"code\": str(data[\"edqmid\"]),\n",
    "        \"system\": \"http://www.edqm.eu/dose-forms\",\n",
    "        \"display\": data[\"edqmform\"]\n",
    "      })\n",
    "\n",
    "    artifact[\"doseForm\"][\"coding\"].append(  {\n",
    "        \"code\": str(data[\"edqmid\"]),\n",
    "        \"system\": \"http://www.belgium.be/dose-forms\",\n",
    "        \"display\": data[\"edqmform\"]\n",
    "      })\n",
    "    route=[]\n",
    "   \n",
    "    route.append( {\n",
    "      \"coding\": [\n",
    "      \n",
    "      ]\n",
    "    })\n",
    "    route[0][\"coding\"].append(   {\n",
    "          \"code\": str(data[\"edqm_roa_id\"]),\n",
    "          \"system\": \"http://www.edqm.eu/routes\",\n",
    "          \"display\": data[\"roa_en\"]\n",
    "        })\n",
    "    route[0][\"coding\"].append(   {\n",
    "          \"code\": str(data[\"edqm_roa_id\"]),\n",
    "          \"system\": \"http://www.belgium.be/routes\",\n",
    "          \"display\": data[\"roa_en\"]\n",
    "        })\n",
    "\n",
    "    artifact[\"intendedRoute\"]=route\n",
    "    file_name=str(data[\"vmp_name\"]).replace(\"/\",\".\").replace(\".\",\"\").replace(\"(\",\"\").replace(\")\",\"\").replace(\" \",\"_\")+ \".json\"\n",
    "    outcome=save_files(folder,file_name,validation,artifact)\n",
    "    if outcome:\n",
    "        print(outcome)\n",
    "        return outcome[\"status\"],outcome[\"message\"]\n",
    "\n",
    "    return artifact"
   ]
  },
  {
   "cell_type": "code",
   "execution_count": 162,
   "metadata": {},
   "outputs": [
    {
     "name": "stdout",
     "output_type": "stream",
     "text": [
      "{'status': 'OK', 'message': \"0 errors, 1 warnings, 7 notes\\n  Information @ MedicationKnowledge.meta.profile[0] (line 6, col10): Canonical URL 'https://costateixeira.github.io/be-medication-concepts/StructureDefinition-PharmaceuticalProduct' does not resolve\\n  Information @ MedicationKnowledge.code.coding[0] (line 10, col14): Code System URI 'http://www.belgium.be/pharmaceutical-ids' is unknown so the code cannot be validated\\n  Information @ MedicationKnowledge.code.coding[1] (line 14, col14): Code System URI 'http://www.edqm.eu/pharmaceutical-product-identifier-type' is unknown so the code cannot be validated\\n  Information @ MedicationKnowledge.doseForm.coding[0] (line 44, col14): Code System URI 'http://www.edqm.eu/dose-forms' is unknown so the code cannot be validated\\n  Information @ MedicationKnowledge.doseForm.coding[1] (line 49, col14): Code System URI 'http://www.belgium.be/dose-forms' is unknown so the code cannot be validated\\n  Information @ MedicationKnowledge.intendedRoute[0].coding[0] (line 59, col18): Code System URI 'http://www.edqm.eu/routes' is unknown so the code cannot be validated\\n  Information @ MedicationKnowledge.intendedRoute[0].coding[1] (line 64, col18): Code System URI 'http://www.belgium.be/routes' is unknown so the code cannot be validated\\n  Warning @ MedicationKnowledge.meta.profile[0] (line 1, col2): Profile reference 'https://costateixeira.github.io/be-medication-concepts/StructureDefinition-PharmaceuticalProduct' has not been checked because it is unknown, and fetching it resulted in the error The URL 'https://costateixeira.github.io/be-medication-concepts/StructureDefinition-PharmaceuticalProduct' is not known to the FHIR validator, and has not been provided as part of the setup / parameters\\n\"}\n",
      "{'status': 'OK', 'message': \"0 errors, 1 warnings, 7 notes\\n  Information @ MedicationKnowledge.meta.profile[0] (line 6, col10): Canonical URL 'https://costateixeira.github.io/be-medication-concepts/StructureDefinition-PharmaceuticalProduct' does not resolve\\n  Information @ MedicationKnowledge.code.coding[0] (line 10, col14): Code System URI 'http://www.belgium.be/pharmaceutical-ids' is unknown so the code cannot be validated\\n  Information @ MedicationKnowledge.code.coding[1] (line 14, col14): Code System URI 'http://www.edqm.eu/pharmaceutical-product-identifier-type' is unknown so the code cannot be validated\\n  Information @ MedicationKnowledge.doseForm.coding[0] (line 44, col14): Code System URI 'http://www.edqm.eu/dose-forms' is unknown so the code cannot be validated\\n  Information @ MedicationKnowledge.doseForm.coding[1] (line 49, col14): Code System URI 'http://www.belgium.be/dose-forms' is unknown so the code cannot be validated\\n  Information @ MedicationKnowledge.intendedRoute[0].coding[0] (line 59, col18): Code System URI 'http://www.edqm.eu/routes' is unknown so the code cannot be validated\\n  Information @ MedicationKnowledge.intendedRoute[0].coding[1] (line 64, col18): Code System URI 'http://www.belgium.be/routes' is unknown so the code cannot be validated\\n  Warning @ MedicationKnowledge.meta.profile[0] (line 1, col2): Profile reference 'https://costateixeira.github.io/be-medication-concepts/StructureDefinition-PharmaceuticalProduct' has not been checked because it is unknown, and fetching it resulted in the error The URL 'https://costateixeira.github.io/be-medication-concepts/StructureDefinition-PharmaceuticalProduct' is not known to the FHIR validator, and has not been provided as part of the setup / parameters\\n\"}\n"
     ]
    },
    {
     "data": {
      "text/plain": [
       "0    (OK, 0 errors, 1 warnings, 7 notes\\n  Informat...\n",
       "1    (OK, 0 errors, 1 warnings, 7 notes\\n  Informat...\n",
       "dtype: object"
      ]
     },
     "execution_count": 162,
     "metadata": {},
     "output_type": "execute_result"
    }
   ],
   "source": [
    "data.iloc[0:2].apply(create_pharmprod_profile,axis=1,folder=OUT_FOLDER_VMP_PROFILE,validation=True,ig=\"https://costateixeira.github.io/be-medication-concepts\")\n",
    "#data.iloc[0:2].apply(create_pharmprod_profile,axis=1,folder=OUT_FOLDER_VMP_PROFILE,validation=True,ig=\"/Users/joaoalmeida/Downloads/full-ig (1)/site\")\n",
    "#data.iloc[0:2].apply(create_pharmprod_profile,axis=1,folder=OUT_FOLDER_VMP_PROFILE,validation=True,ig=\"/Users/joaoalmeida/Downloads/definitions.json (1)\")\n"
   ]
  }
 ],
 "metadata": {
  "interpreter": {
   "hash": "decfb96486dd89f89c2598b4e0cc278601247f7ab503e483e1f0537bf3d725c0"
  },
  "kernelspec": {
   "display_name": "Python (py3)",
   "language": "python",
   "name": "py3"
  },
  "language_info": {
   "codemirror_mode": {
    "name": "ipython",
    "version": 3
   },
   "file_extension": ".py",
   "mimetype": "text/x-python",
   "name": "python",
   "nbconvert_exporter": "python",
   "pygments_lexer": "ipython3",
   "version": "3.9.10"
  },
  "orig_nbformat": 4
 },
 "nbformat": 4,
 "nbformat_minor": 2
}
